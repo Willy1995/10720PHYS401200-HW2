{
 "cells": [
  {
   "cell_type": "markdown",
   "metadata": {},
   "source": [
    "# 10720PHYS401200 Homework-2"
   ]
  },
  {
   "cell_type": "markdown",
   "metadata": {},
   "source": [
    "## Monte Carlo simulation of the 2D Ising model\n",
    "\n",
    "Write a program/function to perform a Monte Carlo simulation of the 2D Ising model in zero magnetic field.\n",
    "\n",
    "$$\n",
    "  H = -J \\sum_{\\langle i,j\\rangle} \\sigma_i \\sigma_j,\n",
    "$$\n",
    "\n",
    "where $\\sigma=\\pm 1$ and the sum is over nearest-neighbor pairs of sites on a square lattice of $N = L \\times L$ sites.\n",
    "\n",
    "You should implement two different update schemes:\n",
    "* Sequential update.\n",
    "* Random update.\n",
    "\n",
    "For both schemes, we define a Monte Carlo sweep as $N=L\\times L$ local spin updates(flip attemps). At the end each Monte Carlo sweep, i.e., after $N$ local spin updates(flip attemps), you should measure the following quantities:\n",
    "* Total energy $E$ and $E^2$.\n",
    "* Total matnetization $M$, $|M|$, and $M^2$.\n",
    "\n",
    "At the end of the simulation, calculate following quantities:\n",
    "* Specific heat $C_v$\n",
    "$$\n",
    "  C_v \\equiv \\frac{\\partial \\langle E\\rangle}{\\partial T} = \\frac{1}{k_B T^2} \\left( \\langle E^2\\rangle -\\langle E\\rangle^2 \\right).\n",
    "$$\n",
    "* Susceptbility of $M$\n",
    "$$ \n",
    "  \\chi_M \\equiv \\frac{\\partial \\langle M\\rangle}{\\partial h} = \\frac{1}{k_B T} \\left( \\langle M^2\\rangle -\\langle M\\rangle^2 \\right).\n",
    "$$\n",
    "* Susceptbility of $|M|$\n",
    "$$ \n",
    "  \\chi_{|M|} \\equiv \\frac{\\partial \\langle |M|\\rangle}{\\partial h} = \\frac{1}{k_B T} \\left( \\langle M^2\\rangle -\\langle |M|\\rangle^2 \\right).\n",
    "$$"
   ]
  },
  {
   "cell_type": "markdown",
   "metadata": {},
   "source": [
    "## Problem 1: $2\\times 2$ lattice\n",
    "\n",
    "The exact results for $2\\times 2$ lattices are (cf. arXiv:0803.0217):\n",
    "$$\n",
    "  Z=2 e^{8\\beta J} + 12 + 2 e^{-8\\beta J}.\n",
    "$$\n",
    "\n",
    "$$ \n",
    "  \\langle E\\rangle = -\\frac{1}{Z} \\left[ 2(8)e^{8\\beta J} + 2(-8)e^{-8\\beta J} \\right].\n",
    "$$\n",
    "\n",
    "$$ \n",
    "  \\langle E^2\\rangle = \\frac{1}{Z} \\left[ 2(64)e^{8\\beta J} + 2(64)e^{-8\\beta J} \\right].\n",
    "$$\n",
    "\n",
    "$$ \n",
    "  \\langle |M|\\rangle = \\frac{1}{Z} \\left[ 2(4)e^{8\\beta J} + 8(2) \\right].\n",
    "$$\n",
    "\n",
    "$$ \n",
    "  \\langle M^2\\rangle = \\frac{1}{Z} \\left[ 2(16)e^{8\\beta J} + 8(4) \\right].\n",
    "$$\n",
    "\n",
    "* Plot specific heat per site $C_v/N$ vs temperature using exat result, MC (sequential update), MC (random update).\n",
    "* Plot susceptbility of $|M|$ per site $\\chi_{|M|}/N$ vs temperature using exat result, MC (sequential update), MC (random update).\n",
    "\n",
    "You should perform at least $10^3$ Monte Carlo sweeps."
   ]
  },
  {
   "cell_type": "code",
   "execution_count": 1,
   "metadata": {},
   "outputs": [],
   "source": [
    "# Problem 1"
   ]
  },
  {
   "cell_type": "markdown",
   "metadata": {},
   "source": [
    "## Problem 2: Symmetry-breaking and finite systems: Reversal time\n",
    "\n",
    "Start from \"all up\" spin configuration and perform at least $10^4$ Monte Carlo sweeps for a $L=8$ and a $L=16$ systems for temperature of $T=2.2$. Plot $M$ as function of MC sweeps."
   ]
  },
  {
   "cell_type": "code",
   "execution_count": 2,
   "metadata": {},
   "outputs": [],
   "source": [
    "# Problem 2"
   ]
  },
  {
   "cell_type": "markdown",
   "metadata": {},
   "source": [
    "## Problem 3: $8\\times 8$ lattice\n",
    "\n",
    "Perform at least $10^3$ Monte Carlo sweeps for a $L=8$ system for temperature of $T=1, 2, 3, 4, 5, 6, 7, 8$. Print $E$, $C$, $|M|$, $\\chi_{|M|}$ for each $T$."
   ]
  },
  {
   "cell_type": "code",
   "execution_count": 3,
   "metadata": {},
   "outputs": [],
   "source": [
    "# Problem 3"
   ]
  }
 ],
 "metadata": {
  "kernelspec": {
   "display_name": "Python 3",
   "language": "python",
   "name": "python3"
  },
  "language_info": {
   "codemirror_mode": {
    "name": "ipython",
    "version": 3
   },
   "file_extension": ".py",
   "mimetype": "text/x-python",
   "name": "python",
   "nbconvert_exporter": "python",
   "pygments_lexer": "ipython3",
   "version": "3.6.8"
  }
 },
 "nbformat": 4,
 "nbformat_minor": 2
}

import matplotlib.pyplot as plt
import numpy as np
import random

##  periodic BC 如何表現可以用餘數的方式可以解決
def energy(s,L):
    E = 0
    for i in range(L):
        for j in range(L):
            E += -(s[i,j]*(s[(i+1)%L,j] + s[i,(j+1)%L]))
    return E
def totalmagnet(s,L):
    h = 0.0
    for i in range(L):
        for j in range(L):
            h += s[i,j]
    return h

## 每個位置上的能量差等於周圍4個點的spin和*2,因為H=-S*S,有兩個負號會對消, dE代表的是spin相反後出現的能量差異
def dE(s,L,i,j):
    E = 2*(s[(i+1)%L,j]+s[(i-1)%L,j]+s[i,(j+1)%L]+s[i,(j-1)%L])*s[i,j]
    return E

print(s)
print(energy(s,L))
print(totalmagnet(s,L))

## sequential update 依序翻轉spin
def MC_s(s,T,L,NMC):
    N = L*L
    kb = 1.0
    beta = 1.0/(kb*T)
    accept = 0
    E = 0
    Esqr = 0
    Esqr_sum = 0
    E_sum = 0
    M = 0
    M_sum = 0
    Msqr = 0
    Msqr_sum = 0
    Mabs = 0
    Mabs_sum = 0
    Cv = 0
    kaiM = 0
    kaiMabs = 0
    for n in range(NMC):
        for i in range(L):
            for j in range(L):
                if np.random.random() < np.exp(-(beta)*(dE(s,L,i,j))):
                    s[i,j] = -s[i,j]
                    accept += 1
        E = energy(s,L)
        Esqr = E*E
        Esqr_sum += Esqr
        E_sum += E
        M = totalmagnet(s,L)
        M_sum += M
        Msqr = M*M
        Msqr_sum += Msqr
        Mabs = np.abs(M)
        Mabs_sum += Mabs
    Cv = (Esqr_sum/NMC - (E_sum/NMC)**2)/(kb*T**2)
    kaiM = (Msqr_sum/NMC - (M_sum/NMC)**2)/(kb*T**2)
    kaiMabs = (Msqr_sum/NMC - (Mabs_sum/NMC)**2)/(kb*T**2)
    return Cv,kaiM,kaiMabs
## random update 亂序翻轉spin
def MC_r(s,T,L,NMC):
    N = L*L
    kb = 1.0
    beta = 1.0/(kb*T)
    accept = 0
    E = 0
    Esqr = 0
    Esqr_sum = 0
    E_sum = 0
    M = 0
    M_sum = 0
    Msqr = 0
    Msqr_sum = 0
    Mabs = 0
    Mabs_sum = 0
    Cv = 0
    kaiM = 0
    kaiMabs = 0
    for n in range(NMC):
        for k in range(L*L):
            i = np.random.randint(L)
            j = np. random.randint(L)
            if np.random.random() < np.exp(-(beta)*(dE(s,L,i,j))):
                s[i,j] = -s[i,j]
                accept += 1
        E = energy(s,L)
        Esqr = E*E
        Esqr_sum += Esqr
        E_sum += E
        M = totalmagnet(s,L)
        M_sum += M
        Msqr = M*M
        Msqr_sum += Msqr
        Mabs = np.abs(M)
        Mabs_sum += Mabs
    Cv = (Esqr_sum/NMC - (E_sum/NMC)**2)/(kb*T**2)
    kaiM = (Msqr_sum/NMC - (M_sum/NMC)**2)/(kb*T**2)
    kaiMabs = (Msqr_sum/NMC - (Mabs_sum/NMC)**2)/(kb*T**2)
    return Cv,kaiM,kaiMabs

#problem 1
L = 2
s = np.zeros((L,L),int)
N = L*L
NMC = 1000
Z = 0
J = 1.0
kb = 1.0
for i in range(L):
    for j in range(L):
        s[i,j] = 2*(random.randint(0,1)) -1

x1 = []
x2 = []
x3 = []
y1 = []
y2 = []
y3 = []
z1 = []
z2 = []
z3 = []

for i in range(10,60,1):
    T = i/10
    Cv_s,kaiM_s,kaiMabs_s = MC_s(s,T,L,NMC)
    x1.append(T)
    y1.append(Cv_s/N)
    z1.append(kaiMabs_s/N)
    
for i in range(10,60,1):
    T = i/10
    Cv_r,kaiM_r,kaiMabs_r = MC_r(s,T,L,NMC)
    x2.append(T)
    y2.append(Cv_r/N)
    z2.append(kaiMabs_r/N)
    
for i in range(10,60,1):
    T = i/10
    Z = 2*np.exp(8*J/(kb*T))+12+2*np.exp(-8*J/(kb*T))
    E = -(2*8*np.exp(8*J/(kb*T))-2*8*np.exp(-8*J/(kb*T)))/Z
    Esqr = (2*64*np.exp(8*J/(kb*T))+2*64*np.exp(-8*J/(kb*T)))/Z
    M = (8*np.exp(8*J/(kb*T))+16)/Z
    Msqr = (32*np.exp(8*J/(kb*T))+32)/Z
    Cv_ex = (Esqr - E*E)/(kb*T**2)
    kaiMabs_ex = (Msqr-M*M)/(kb*T)
    x3.append(T)
    y3.append(Cv_ex/N)
    z3.append(kaiMabs_ex/N)
    
plt.plot(x1, y1,label = 'sequential update')
plt.plot(x1, y2,label = 'random update')
plt.plot(x1, y3,label = 'exact')
plt.title('specific heat per site vs temp.')
plt.legend()
plt.show()

plt.plot(x1, z1,label = 'sequential update')
plt.plot(x1, z2,label = 'random update')
plt.plot(x1, z3,label = 'exact')
plt.title('susceptbility of magnetization per site vs temp.')
plt.legend()
plt.show()
